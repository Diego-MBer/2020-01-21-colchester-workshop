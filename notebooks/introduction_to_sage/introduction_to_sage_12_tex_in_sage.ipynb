{
 "cells": [
  {
   "cell_type": "markdown",
   "metadata": {},
   "source": [
    "<h1 style=\"text-align: left;\"><a title=\"CoDiMa Workshop - January 2020\" href=\"https://ccp-codima.github.io/2020-01-21-colchester-workshop/\">CoDiMa Workshop - January 2020</a>, <a title=\"University of Essex - Colchester Campus\" href=\"https://ccp-codima.github.io/2020-01-21-colchester-workshop/location/\">University of Essex - Colchester Campus</a></h1>\n",
    "\n",
    "\n",
    "<h2 style=\"text-align: left;\">Introduction to <a title=\"Sage\"href=\"http://www.sagemath.org/\"><em>Sage</em></a></h2>\n",
    "\n",
    "\n",
    "### Instructor(s): [E. Madison Bray](https://iguananaut.net)\n",
    "\n",
    "The outline of the this notebook is as follows:"
   ]
  },
  {
   "cell_type": "markdown",
   "metadata": {},
   "source": [
    "## Table of Contents: <a class=\"anchor\" id=\"toc\"></a>\n",
    "\n",
    "*  [<font color=blue>$\\TeX$ in Sage</font>](#tex-in-sage)"
   ]
  },
  {
   "cell_type": "markdown",
   "metadata": {},
   "source": [
    "## 12 $\\TeX$ in [Sage](http://www.sagemath.org) <a class=\"anchor\" id=\"tex-in-sagemath\"></a>\n",
    "\n",
    "Sage is able to generate the $\\TeX$ code for objects of any class. To generate the $\\TeX$ code you have to pass the object as an argument to the Sage function latex. For example:"
   ]
  },
  {
   "cell_type": "code",
   "execution_count": null,
   "metadata": {},
   "outputs": [],
   "source": [
    "my_list = Set([1,4..21])"
   ]
  },
  {
   "cell_type": "code",
   "execution_count": null,
   "metadata": {},
   "outputs": [],
   "source": [
    "latex(my_list)"
   ]
  },
  {
   "cell_type": "markdown",
   "metadata": {},
   "source": [
    "We can even get the $\\TeX$ code for complicated objects."
   ]
  },
  {
   "cell_type": "code",
   "execution_count": null,
   "metadata": {},
   "outputs": [],
   "source": [
    "my_graph = graphs.CompleteGraph(3)"
   ]
  },
  {
   "cell_type": "code",
   "execution_count": null,
   "metadata": {},
   "outputs": [],
   "source": [
    "latex(my_graph)"
   ]
  },
  {
   "cell_type": "markdown",
   "metadata": {},
   "source": [
    "One can also run Sage code in $\\LaTeX$. For more information on this see the [SageTeX documentation](http://doc.sagemath.org/html/en/tutorial/sagetex.html)."
   ]
  },
  {
   "cell_type": "code",
   "execution_count": null,
   "metadata": {},
   "outputs": [],
   "source": []
  }
 ],
 "metadata": {
  "kernelspec": {
   "display_name": "SageMath 8.8",
   "language": "sage",
   "name": "sagemath"
  },
  "language": "python",
  "language_info": {
   "codemirror_mode": {
    "name": "ipython",
    "version": 2
   },
   "file_extension": ".py",
   "mimetype": "text/x-python",
   "name": "python",
   "nbconvert_exporter": "python",
   "pygments_lexer": "ipython2",
   "version": "2.7.15"
  }
 },
 "nbformat": 4,
 "nbformat_minor": 2
}
