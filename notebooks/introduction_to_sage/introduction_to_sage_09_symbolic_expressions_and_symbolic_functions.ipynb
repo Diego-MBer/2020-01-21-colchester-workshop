{
 "cells": [
  {
   "cell_type": "markdown",
   "metadata": {},
   "source": [
    "<h1 style=\"text-align: left;\"><a title=\"CoDiMa Workshop - January 2020\" href=\"https://ccp-codima.github.io/2020-01-21-colchester-workshop/\">CoDiMa Workshop - January 2020</a>, <a title=\"University of Essex - Colchester Campus\" href=\"https://ccp-codima.github.io/2020-01-21-colchester-workshop/location/\">University of Essex - Colchester Campus</a></h1>\n",
    "\n",
    "\n",
    "<h2 style=\"text-align: left;\">Introduction to <a title=\"Sage\"href=\"http://www.sagemath.org/\"><em>Sage</em></a></h2>\n",
    "\n",
    "\n",
    "### Instructor(s): [E. Madison Bray](https://iguananaut.net)\n",
    "\n",
    "The outline of the this notebook is as follows:"
   ]
  },
  {
   "cell_type": "markdown",
   "metadata": {},
   "source": [
    "## Table of Contents: <a class=\"anchor\" id=\"toc\"></a>\n",
    "\n",
    "*  [<font color=blue>Sage Symbolic Expressions and Symbolic Functions</font>](#sage-symb-exprs-and-symb-functions)"
   ]
  },
  {
   "cell_type": "markdown",
   "metadata": {},
   "source": [
    "## 9 [Sage](http://www.sagemath.org) Symbolic Expressions and Symbolic Functions <a class=\"anchor\" id=\"sage-symb-exprs-and-symb-functions\"></a>\n",
    "\n",
    "In [__Section 6__](./introduction_to_sage_07_expressions_and_computational_domains.ipynb#exprs-and-comp-domains), we were introduced to the symbolic ring in Sage. The elements of the symnbolic ring called symbolic expressions can also converted into mathematical or callable functions."
   ]
  },
  {
   "cell_type": "code",
   "execution_count": null,
   "metadata": {},
   "outputs": [],
   "source": [
    "(r, t) = SR.var('r, t')\n",
    "FV = 100*e^(r*t)"
   ]
  },
  {
   "cell_type": "code",
   "execution_count": null,
   "metadata": {},
   "outputs": [],
   "source": [
    "parent(FV)"
   ]
  },
  {
   "cell_type": "code",
   "execution_count": null,
   "metadata": {},
   "outputs": [],
   "source": [
    "f = FV.function(r, t); show(f)"
   ]
  },
  {
   "cell_type": "markdown",
   "metadata": {},
   "source": [
    "We can also define functions as this."
   ]
  },
  {
   "cell_type": "code",
   "execution_count": null,
   "metadata": {},
   "outputs": [],
   "source": [
    "y = function('y')(x)"
   ]
  },
  {
   "cell_type": "code",
   "execution_count": null,
   "metadata": {},
   "outputs": [],
   "source": [
    "%display latex\n",
    "\n",
    "y + diff(y)"
   ]
  },
  {
   "cell_type": "code",
   "execution_count": null,
   "metadata": {},
   "outputs": [],
   "source": []
  }
 ],
 "metadata": {
  "kernelspec": {
   "display_name": "SageMath 8.8",
   "language": "sage",
   "name": "sagemath"
  },
  "language": "python",
  "language_info": {
   "codemirror_mode": {
    "name": "ipython",
    "version": 2
   },
   "file_extension": ".py",
   "mimetype": "text/x-python",
   "name": "python",
   "nbconvert_exporter": "python",
   "pygments_lexer": "ipython2",
   "version": "2.7.15"
  }
 },
 "nbformat": 4,
 "nbformat_minor": 2
}
