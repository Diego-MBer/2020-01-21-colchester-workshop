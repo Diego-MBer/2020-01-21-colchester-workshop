{
 "cells": [
  {
   "cell_type": "markdown",
   "metadata": {},
   "source": [
    "<h1 style=\"text-align: left;\"><a title=\"CoDiMa Workshop - January 2020\" href=\"https://ccp-codima.github.io/2020-01-21-colchester-workshop/\">CoDiMa Workshop - January 2020</a>, <a title=\"University of Essex - Colchester Campus\" href=\"https://ccp-codima.github.io/2020-01-21-colchester-workshop/location/\">University of Essex - Colchester Campus</a></h1>\n",
    "\n",
    "\n",
    "<h2 style=\"text-align: left;\">Introduction to <a title=\"SageMath\"href=\"http://www.sagemath.org/\"><em>SageMath</em></a></h2>\n",
    "\n",
    "\n",
    "### Instructor(s): [E. Madison Bray](https://iguananaut.net)\n",
    "\n",
    "The outline of the this notebook is as follows:"
   ]
  },
  {
   "cell_type": "markdown",
   "metadata": {},
   "source": [
    "## Table of Contents: <a class=\"anchor\" id=\"toc\"></a>\n",
    "\n",
    "*  [<font color=blue>Complete Access to Source Code</font>](#access-to-source-code)\n",
    "    *  [<font color=red>Exercise 1</font>](#exercise-1)"
   ]
  },
  {
   "cell_type": "markdown",
   "metadata": {},
   "source": [
    "## 3 Complete Access to Source Code <a class=\"anchor\" id=\"access-to-source-code\"></a>\n",
    "\n",
    "Unlike most commercial software, [Sage](http://www.sagemath.org/) gives its users complete access to the source code. For example let's see the source code for the [Sage](http://www.sagemath.org/) function `is_square` and `is_squarefree`. Both are in the same file. All we need to do is to type the name of the function and after that a double question mark (??) and either press <kbd>Enter</kbd> or the <kbd>Tab</kbd> key."
   ]
  },
  {
   "cell_type": "markdown",
   "metadata": {},
   "source": [
    "#### <font color=red>Exercise 1:</font> <a class=\"anchor\" id=\"exercise-1\"></a>\n",
    "\n",
    "Find the source code for the [Sage](http://www.sagemath.org/) functions: `derivative` and `factor`."
   ]
  },
  {
   "cell_type": "code",
   "execution_count": null,
   "metadata": {},
   "outputs": [],
   "source": []
  },
  {
   "cell_type": "code",
   "execution_count": null,
   "metadata": {},
   "outputs": [],
   "source": []
  },
  {
   "cell_type": "code",
   "execution_count": null,
   "metadata": {},
   "outputs": [],
   "source": []
  }
 ],
 "metadata": {
  "kernelspec": {
   "display_name": "SageMath 8.8",
   "language": "sage",
   "name": "sagemath"
  },
  "language": "python",
  "language_info": {
   "codemirror_mode": {
    "name": "ipython",
    "version": 2
   },
   "file_extension": ".py",
   "mimetype": "text/x-python",
   "name": "python",
   "nbconvert_exporter": "python",
   "pygments_lexer": "ipython2",
   "version": "2.7.15"
  }
 },
 "nbformat": 4,
 "nbformat_minor": 2
}
